{
 "cells": [
  {
   "cell_type": "code",
   "execution_count": 13,
   "metadata": {},
   "outputs": [],
   "source": [
    "def file(d1):\n",
    "    l1 = []\n",
    "    summ = 0\n",
    "    with open(d1, \"r\") as f:\n",
    "        for line in f.read().split(\"\\n\")[::2]:\n",
    "            y =line.split(\"0m\")[-1]\n",
    "            y = y[:-1]\n",
    "            l1.append(y)\n",
    "            \n",
    "        for i in range(1 , len(l1) , 2):\n",
    "            f = float(l1[i])\n",
    "            summ = summ + f\n",
    "        #print(summ)\n",
    "        return summ"
   ]
  },
  {
   "cell_type": "code",
   "execution_count": 14,
   "metadata": {},
   "outputs": [
    {
     "data": {
      "text/plain": [
       "11.000000000000002"
      ]
     },
     "execution_count": 14,
     "metadata": {},
     "output_type": "execute_result"
    }
   ],
   "source": [
    "file(\"/home/ali_hydir/Desktop/Semester 6/OPERATING SYSTEMS/CLASS/hello.txt\")"
   ]
  },
  {
   "cell_type": "code",
   "execution_count": null,
   "metadata": {},
   "outputs": [],
   "source": []
  },
  {
   "cell_type": "code",
   "execution_count": null,
   "metadata": {},
   "outputs": [],
   "source": []
  },
  {
   "cell_type": "code",
   "execution_count": null,
   "metadata": {},
   "outputs": [],
   "source": []
  },
  {
   "cell_type": "code",
   "execution_count": null,
   "metadata": {},
   "outputs": [],
   "source": [
    "Percentage speedup: (I-S)*100/I"
   ]
  },
  {
   "cell_type": "code",
   "execution_count": null,
   "metadata": {},
   "outputs": [],
   "source": [
    "\n",
    "    "
   ]
  },
  {
   "cell_type": "code",
   "execution_count": 22,
   "metadata": {},
   "outputs": [],
   "source": [
    "def file(d1):\n",
    "    l1 = []\n",
    "    summ = 0\n",
    "    with open(d1, \"r\") as f:\n",
    "        for line in f.read().split(\"\\n\")[::2]:\n",
    "            y =line.split(\"0m\")[-1]\n",
    "            y = y[:-1]\n",
    "            l1.append(y)\n",
    "        for i in range(1 , len(l1) , 2):\n",
    "            f = float(l1[i])\n",
    "            summ = summ + f\n",
    "            average = summ/50\n",
    "        #print(summ)\n",
    "        return average"
   ]
  },
  {
   "cell_type": "code",
   "execution_count": 23,
   "metadata": {},
   "outputs": [
    {
     "name": "stdout",
     "output_type": "stream",
     "text": [
      "0.22000000000000003\n",
      "0.16906\n"
     ]
    }
   ],
   "source": [
    "x = file(\"/home/ali_hydir/Desktop/Semester 6/OPERATING SYSTEMS/CLASS/hello.txt\")\n",
    "print(x)\n",
    "y = file(\"/home/ali_hydir/Desktop/Semester 6/OPERATING SYSTEMS/CLASS/hello2.txt\")\n",
    "print(y)"
   ]
  },
  {
   "cell_type": "code",
   "execution_count": null,
   "metadata": {},
   "outputs": [],
   "source": []
  },
  {
   "cell_type": "code",
   "execution_count": null,
   "metadata": {},
   "outputs": [],
   "source": [
    "Percentage speedup: (I-S)*100/I"
   ]
  },
  {
   "cell_type": "code",
   "execution_count": 26,
   "metadata": {},
   "outputs": [],
   "source": [
    "def compare_files(a1 , a2):\n",
    "    x = file(a1)\n",
    "    y = file(a2)\n",
    "    print(\"file1 = \" ,x)\n",
    "    print(\"file2 = \",y)\n",
    "    if y<x:\n",
    "        print(\"file2 takes less amount of time  \") # which in our case is system call instruction \n",
    "        percentage = (x-y)*100/x\n",
    "        print(\"percentage = \" , percentage)\n",
    "        return y\n",
    "    else:\n",
    "        print(\"file1 takes less amount of time \")\n",
    "        return x\n",
    "    "
   ]
  },
  {
   "cell_type": "code",
   "execution_count": 27,
   "metadata": {},
   "outputs": [
    {
     "name": "stdout",
     "output_type": "stream",
     "text": [
      "file1 =  0.22000000000000003\n",
      "file2 =  0.16906\n",
      "file2 takes less amount of time  \n",
      "percentage =  23.15454545454547\n"
     ]
    },
    {
     "data": {
      "text/plain": [
       "0.16906"
      ]
     },
     "execution_count": 27,
     "metadata": {},
     "output_type": "execute_result"
    }
   ],
   "source": [
    "compare_files(\"/home/ali_hydir/Desktop/Semester 6/OPERATING SYSTEMS/CLASS/hello.txt\" , \"/home/ali_hydir/Desktop/Semester 6/OPERATING SYSTEMS/CLASS/hello2.txt\")"
   ]
  },
  {
   "cell_type": "markdown",
   "metadata": {},
   "source": [
    "## "
   ]
  }
 ],
 "metadata": {
  "kernelspec": {
   "display_name": "Python 3",
   "language": "python",
   "name": "python3"
  },
  "language_info": {
   "codemirror_mode": {
    "name": "ipython",
    "version": 3
   },
   "file_extension": ".py",
   "mimetype": "text/x-python",
   "name": "python",
   "nbconvert_exporter": "python",
   "pygments_lexer": "ipython3",
   "version": "3.8.5"
  }
 },
 "nbformat": 4,
 "nbformat_minor": 4
}
