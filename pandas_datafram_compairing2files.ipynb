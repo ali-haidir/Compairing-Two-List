{
 "cells": [
  {
   "cell_type": "code",
   "execution_count": 1,
   "metadata": {},
   "outputs": [],
   "source": [
    "import pandas as pd"
   ]
  },
  {
   "cell_type": "code",
   "execution_count": null,
   "metadata": {},
   "outputs": [],
   "source": [
    "data = pd.read_csv(\"/home/ali_hydir/Desktop/Semester 6/OPERATING SYSTEMS/CLASS/hello.txt\", sep = \"\\t\" , header = None)\n",
    "print(data)\n",
    "#data = data[1].str.split(\" \"  , expand = True)\n",
    "#print(data)\n",
    "#data = data[1].str.split(\"0m\", expand =True)\n",
    "#print(data)\n",
    "#data[1].str.split(\"s\" ,expand = True)"
   ]
  },
  {
   "cell_type": "code",
   "execution_count": null,
   "metadata": {},
   "outputs": [],
   "source": []
  },
  {
   "cell_type": "code",
   "execution_count": 2,
   "metadata": {},
   "outputs": [
    {
     "name": "stdout",
     "output_type": "stream",
     "text": [
      "11.0\n"
     ]
    }
   ],
   "source": [
    "dataa = pd.read_csv(\"/home/ali_hydir/Desktop/Semester 6/OPERATING SYSTEMS/CLASS/hello.txt\", sep = \"\\t\" , header = None )\n",
    "\n",
    "dataa = dataa[1].str.split(\" |0m|s\"  , expand = True)\n",
    "new_da = dataa[1].iloc[1::3]\n",
    "float_n = new_da.apply(lambda x : float(x))\n",
    "summ = float_n.sum()\n",
    "print(summ)\n",
    "\n"
   ]
  },
  {
   "cell_type": "code",
   "execution_count": 3,
   "metadata": {},
   "outputs": [
    {
     "name": "stdout",
     "output_type": "stream",
     "text": [
      "8.453\n"
     ]
    }
   ],
   "source": [
    "dataa = pd.read_csv(\"/home/ali_hydir/Desktop/Semester 6/OPERATING SYSTEMS/CLASS/hello2.txt\", sep = \"\\t\" , header = None )\n",
    "\n",
    "dataa = dataa[1].str.split(\" |0m|s\"  , expand = True)\n",
    "new_da = dataa[1].iloc[1::3]\n",
    "float_n = new_da.apply(lambda x : float(x))\n",
    "summ = float_n.sum()\n",
    "print(summ)\n",
    "\n"
   ]
  },
  {
   "cell_type": "code",
   "execution_count": null,
   "metadata": {},
   "outputs": [],
   "source": [
    "dataa.info()"
   ]
  },
  {
   "cell_type": "code",
   "execution_count": null,
   "metadata": {},
   "outputs": [],
   "source": []
  },
  {
   "cell_type": "code",
   "execution_count": null,
   "metadata": {},
   "outputs": [],
   "source": []
  }
 ],
 "metadata": {
  "kernelspec": {
   "display_name": "Python 3",
   "language": "python",
   "name": "python3"
  },
  "language_info": {
   "codemirror_mode": {
    "name": "ipython",
    "version": 3
   },
   "file_extension": ".py",
   "mimetype": "text/x-python",
   "name": "python",
   "nbconvert_exporter": "python",
   "pygments_lexer": "ipython3",
   "version": "3.8.5"
  }
 },
 "nbformat": 4,
 "nbformat_minor": 4
}
